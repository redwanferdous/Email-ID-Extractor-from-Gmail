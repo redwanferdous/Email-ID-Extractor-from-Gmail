{
 "cells": [
  {
   "cell_type": "markdown",
   "metadata": {},
   "source": [
    "# 📬 Gmail Email Extraction Toolkit (Colab Version)\n",
    "\n",
    "This notebook lets you extract and clean email addresses from your **Gmail Takeout (.mbox)** data — right inside Google Colab.\n",
    "\n",
    "✅ Works on large files (even 10GB+)\n",
    "\n",
    "✅ Automatically removes duplicates and system-generated emails\n",
    "\n",
    "✅ Exports a clean list + CSV domain summary"
   ]
  },
  {
   "cell_type": "markdown",
   "metadata": {},
   "source": [
    "## Step 1 — Mount Google Drive\n",
    "This allows Colab to access your Gmail Takeout files stored in Google Drive."
   ]
  },
  {
   "cell_type": "code",
   "execution_count": null,
   "metadata": {},
   "outputs": [],
   "source": [
    "from google.colab import drive\n",
    "drive.mount('/content/drive')"
   ]
  },
  {
   "cell_type": "markdown",
   "metadata": {},
   "source": [
    "## Step 2 — Install Dependencies\n",
    "This installs required Python libraries (only needs to be done once per runtime)."
   ]
  },
  {
   "cell_type": "code",
   "execution_count": null,
   "metadata": {},
   "outputs": [],
   "source": [
    "!pip install tqdm pandas openpyxl"
   ]
  },
  {
   "cell_type": "markdown",
   "metadata": {},
   "source": [
    "## Step 3 — Clone Toolkit Repository\n",
    "You can use your own GitHub repo or the toolkit files manually uploaded."
   ]
  },
  {
   "cell_type": "code",
   "execution_count": null,
   "metadata": {},
   "outputs": [],
   "source": [
    "!git clone https://github.com/yourusername/gmail-email-extraction-toolkit.git"
   ]
  },
  {
   "cell_type": "markdown",
   "metadata": {},
   "source": [
    "## Step 4 — Set File Paths\n",
    "Change the path below to match your `.mbox` file location in Drive."
   ]
  },
  {
   "cell_type": "code",
   "execution_count": null,
   "metadata": {},
   "outputs": [],
   "source": [
    "INPUT_PATH = '/content/drive/MyDrive/your_folder/All mail Including Spam and Trash.mbox'\n",
    "OUTPUT_PATH = '/content/drive/MyDrive/output/emails_extracted.txt'"
   ]
  },
  {
   "cell_type": "markdown",
   "metadata": {},
   "source": [
    "## Step 5 — Run Email Extraction\n",
    "This will process your MBOX and store results in both a text and SQLite file."
   ]
  },
  {
   "cell_type": "code",
   "execution_count": null,
   "metadata": {},
   "outputs": [],
   "source": [
    "!python gmail-email-extraction-toolkit/scripts/extract_emails.py --input \"$INPUT_PATH\" --output \"$OUTPUT_PATH\""
   ]
  },
  {
   "cell_type": "markdown",
   "metadata": {},
   "source": [
    "## Step 6 — Convert to CSV\n",
    "This converts the extracted `.txt` file into a `.csv` file with domain breakdown."
   ]
  },
  {
   "cell_type": "code",
   "execution_count": null,
   "metadata": {},
   "outputs": [],
   "source": [
    "!python gmail-email-extraction-toolkit/scripts/make_csv.py"
   ]
  },
  {
   "cell_type": "markdown",
   "metadata": {},
   "source": [
    "## ✅ Done!\n",
    "You’ll now find two files in your Drive:\n",
    "- `emails_extracted.txt` — full clean email list\n",
    "- `emails_extracted.csv` — same list, with domain separation for sorting"
   ]
  },
  {
   "cell_type": "markdown",
   "metadata": {},
   "source": [
    "---\n",
    "### 🔒 Privacy Note\n",
    "All processing happens locally in your Google Colab session. No data leaves your Google account. Use this only for mailboxes you own or have permission to analyze."
   ]
  }
 ],
 "metadata": {
  "colab": {
   "provenance": []
  },
  "kernelspec": {
   "display_name": "Python 3",
   "language": "python",
   "name": "python3"
  },
  "language_info": {
   "name": "python"
  }
 },
 "nbformat": 4,
 "nbformat_minor": 0
}
